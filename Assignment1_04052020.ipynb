{
 "cells": [
  {
   "cell_type": "markdown",
   "metadata": {},
   "source": [
    "TASK 1"
   ]
  },
  {
   "cell_type": "markdown",
   "metadata": {},
   "source": [
    "1)Install Jupyter notebook and run the first program and share the screenshot of the output.\n"
   ]
  },
  {
   "cell_type": "code",
   "execution_count": 24,
   "metadata": {},
   "outputs": [
    {
     "name": "stdout",
     "output_type": "stream",
     "text": [
      "Successfull installation of jupyter notebook\n"
     ]
    }
   ],
   "source": [
    "print(\"Successfull installation of jupyter notebook\")"
   ]
  },
  {
   "cell_type": "markdown",
   "metadata": {},
   "source": [
    "2)Write a program which will find all such numbers which are divisible by 7 but are not a multiple\n",
    "of 5, between 2000 and 3200 (both included). The numbers obtained should be printed in a\n",
    "comma-separated sequence on a single line."
   ]
  },
  {
   "cell_type": "code",
   "execution_count": 25,
   "metadata": {},
   "outputs": [
    {
     "name": "stdout",
     "output_type": "stream",
     "text": [
      "2002,2009,2016,2023,2037,2044,2051,2058,2072,2079,2086,2093,2107,2114,2121,2128,2142,2149,2156,2163,2177,2184,2191,2198,2212,2219,2226,2233,2247,2254,2261,2268,2282,2289,2296,2303,2317,2324,2331,2338,2352,2359,2366,2373,2387,2394,2401,2408,2422,2429,2436,2443,2457,2464,2471,2478,2492,2499,2506,2513,2527,2534,2541,2548,2562,2569,2576,2583,2597,2604,2611,2618,2632,2639,2646,2653,2667,2674,2681,2688,2702,2709,2716,2723,2737,2744,2751,2758,2772,2779,2786,2793,2807,2814,2821,2828,2842,2849,2856,2863,2877,2884,2891,2898,2912,2919,2926,2933,2947,2954,2961,2968,2982,2989,2996,3003,3017,3024,3031,3038,3052,3059,3066,3073,3087,3094,3101,3108,3122,3129,3136,3143,3157,3164,3171,3178,3192,3199\n"
     ]
    }
   ],
   "source": [
    "#empty list\n",
    "n=[]\n",
    "#to include numbers between 2000 and 3201\n",
    "for x in range(2000,3201):\n",
    "#checking for condition if it is divisible by 7 and are not multiples of 5\n",
    "    if (x%7==0) and (x%5!=0):\n",
    "#after met with above conditions,the resulting numbers are type converted to string by appending it\n",
    "        n.append(str(x))\n",
    "#printing with comma seperated sequences in single line\n",
    "print(','.join(n))"
   ]
  },
  {
   "cell_type": "markdown",
   "metadata": {},
   "source": [
    "3)Write a Python program to accept the user's first and last name and then getting them printed in\n",
    "the the reverse order with a space between first name and last name.\n"
   ]
  },
  {
   "cell_type": "code",
   "execution_count": 2,
   "metadata": {},
   "outputs": [
    {
     "name": "stdout",
     "output_type": "stream",
     "text": [
      "aarthi\n",
      "ram\n",
      "aarthiram\n",
      "reversed name: ram aarthi\n"
     ]
    }
   ],
   "source": [
    "#prompting user to enter first name\n",
    "first=str(input())\n",
    "#prompting user to enter last name\n",
    "last=str(input())\n",
    "#using concatenation,we are joining two name\n",
    "name=first+last\n",
    "#printing the resultant format\n",
    "print(name)\n",
    "#printing it in reverse order with space\n",
    "print(\"reversed name:\",last+\" \"+first)"
   ]
  },
  {
   "cell_type": "markdown",
   "metadata": {},
   "source": [
    "4)Write a Python program to find the volume of a sphere with diameter 12 cm.\n",
    "Formula: V=4/3 * π * r3"
   ]
  },
  {
   "cell_type": "code",
   "execution_count": 3,
   "metadata": {},
   "outputs": [
    {
     "name": "stdout",
     "output_type": "stream",
     "text": [
      "volume of sphere is 904.3199999999998\n"
     ]
    }
   ],
   "source": [
    "#assigning pi value=3.14\n",
    "pi=3.14\n",
    "#given the diameter=12 and radius is diameter/2\n",
    "d=12\n",
    "#Calculating volume of sphere\n",
    "v=(4/3)*pi*d/2*d/2*d/2\n",
    "#printing the calculated value \n",
    "print(\"volume of sphere is\",v)"
   ]
  },
  {
   "cell_type": "code",
   "execution_count": null,
   "metadata": {},
   "outputs": [],
   "source": []
  },
  {
   "cell_type": "markdown",
   "metadata": {},
   "source": [
    "TASK 2"
   ]
  },
  {
   "cell_type": "markdown",
   "metadata": {},
   "source": [
    "1)Write a program which accepts a sequence of comma-separated numbers from console and\n",
    "generate a list."
   ]
  },
  {
   "cell_type": "code",
   "execution_count": 6,
   "metadata": {},
   "outputs": [
    {
     "name": "stdout",
     "output_type": "stream",
     "text": [
      "21,23,34,45,56\n",
      "printing seq of numbers in list ['21', '23', '34', '45', '56']\n"
     ]
    }
   ],
   "source": [
    "#prompting user to enter number\n",
    "num=input()\n",
    "#splitting comma's using split() method\n",
    "lst=num.split(\",\")\n",
    "#printing the result in the form of list(collections)\n",
    "print(\"printing seq of numbers in list\",lst)"
   ]
  },
  {
   "cell_type": "code",
   "execution_count": 21,
   "metadata": {},
   "outputs": [
    {
     "name": "stdout",
     "output_type": "stream",
     "text": [
      "enter number of max rows:5\n",
      "*\n",
      "**\n",
      "***\n",
      "****\n",
      "*****\n",
      "****\n",
      "***\n",
      "**\n",
      "*\n",
      "\n"
     ]
    }
   ],
   "source": [
    "2)star pattern\n",
    "#to enter max number of stars in row\n",
    "num=int(input(\"enter number of max rows:\"))\n",
    "#iterating the for loop till the input number of rows\n",
    "for i in range(0,num):\n",
    "#iterating through columns\n",
    "    for j in range(0,i+1):\n",
    "#printing the start and to end with space and not in next line\n",
    "        print('*',end=\"\")\n",
    "#once the printing finished off while the columns condition satisfied,pointing the cursor to print in next line\n",
    "    print()\n",
    "#same applies for in reverse order of patterns\n",
    "for i in range(num,0,-1):\n",
    "    for j in range(0,i-1):\n",
    "        print(\"*\",end=\"\")\n",
    "    print()"
   ]
  },
  {
   "cell_type": "markdown",
   "metadata": {},
   "source": [
    "3)Write a Python program to reverse a word after accepting the input from the user."
   ]
  },
  {
   "cell_type": "code",
   "execution_count": 22,
   "metadata": {},
   "outputs": [
    {
     "name": "stdout",
     "output_type": "stream",
     "text": [
      "enter the field:aarthiram\n",
      "Reversed order of input is: marihtraa\n"
     ]
    }
   ],
   "source": [
    "#prompting user to enter the input\n",
    "name=input(\"enter the field:\")\n",
    "#reversing the words using slicing method\n",
    "reversed_word=name[::-1]\n",
    "#printing the resultant value\n",
    "print('Reversed order of input is:',reversed_word)"
   ]
  },
  {
   "cell_type": "markdown",
   "metadata": {},
   "source": [
    "4)Write a Python Program to print the given string in the format specified in the sample output."
   ]
  },
  {
   "cell_type": "code",
   "execution_count": 23,
   "metadata": {},
   "outputs": [
    {
     "name": "stdout",
     "output_type": "stream",
     "text": [
      "WE, THE PEOPLE OF INDIA,\n",
      "\thaving solemnly resolved to constitute India into a SOVEREIGN,! \n",
      "\t\tSOCIALIST, SECULAR, DEMOCRATIC REPUBLIC \n",
      "\t\t and to secure to all its citizens\n"
     ]
    }
   ],
   "source": [
    "print(\"WE, THE PEOPLE OF INDIA,\\n\\thaving solemnly resolved to constitute India into a SOVEREIGN,! \\n\\t\\tSOCIALIST, SECULAR, DEMOCRATIC REPUBLIC \\n\\t\\t and to secure to all its citizens\")"
   ]
  },
  {
   "cell_type": "code",
   "execution_count": null,
   "metadata": {},
   "outputs": [],
   "source": []
  }
 ],
 "metadata": {
  "kernelspec": {
   "display_name": "Python 3",
   "language": "python",
   "name": "python3"
  },
  "language_info": {
   "codemirror_mode": {
    "name": "ipython",
    "version": 3
   },
   "file_extension": ".py",
   "mimetype": "text/x-python",
   "name": "python",
   "nbconvert_exporter": "python",
   "pygments_lexer": "ipython3",
   "version": "3.7.4"
  }
 },
 "nbformat": 4,
 "nbformat_minor": 2
}
