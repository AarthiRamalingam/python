{
 "cells": [
  {
   "cell_type": "markdown",
   "metadata": {},
   "source": [
    "1) Write a Python Program to implement your own myreduce() function which works exactly like\n",
    "Python's built-in function reduce()"
   ]
  },
  {
   "cell_type": "code",
   "execution_count": 12,
   "metadata": {},
   "outputs": [
    {
     "name": "stdout",
     "output_type": "stream",
     "text": [
      "sum of values not using reduce function 20\n"
     ]
    }
   ],
   "source": [
    "#reduce function takes two arguements\n",
    "def my_reduce(ownfun,iterables):\n",
    "#assigning first item in iterable to first variable\n",
    "    first=iterables[0]\n",
    "#iterating items in iterables from index1 until the last\n",
    "    for i in iterables[1:]:\n",
    "#using our ownfun,we are passing arguements to it(i.e,loopong through each items in iterable and assigning it variable first)\n",
    "        first=ownfun(first,i)\n",
    "#returning the first variable which we used to store values\n",
    "    return first\n",
    "\n",
    "#we are using function to sum all values in iterables(last step of reduce builtin) and returning values\n",
    "def sum(x,y): return x+y\n",
    "\n",
    "print(\"sum of values not using reduce function\",str(my_reduce(sum,[6,4,10])))\n"
   ]
  },
  {
   "cell_type": "markdown",
   "metadata": {},
   "source": [
    "1.2)Write a Python program to implement your own myfilter() function which works exactly like\n",
    "Python's built-in function filter()"
   ]
  },
  {
   "cell_type": "code",
   "execution_count": 16,
   "metadata": {},
   "outputs": [
    {
     "name": "stdout",
     "output_type": "stream",
     "text": [
      "filter of function returns [2, 4, 6]\n"
     ]
    }
   ],
   "source": [
    "#defining myfilter function which takes two arguements\n",
    "def my_filter(ownfun,iterables):\n",
    "#an empty list f,to append even values\n",
    "    f=[]\n",
    "#looping thorugh list(i.e,iterables)\n",
    "    for i in iterables:\n",
    "#checking for condition\n",
    "        if ownfun(i):\n",
    "#appending all values in f\n",
    "            f.append(i)\n",
    "#returning f\n",
    "    return f\n",
    "\n",
    "#def even function which evaluates whether value is even or not\n",
    "def even(x):\n",
    "    if x%2==0:\n",
    "        return True\n",
    "    else:\n",
    "        return False\n",
    "#priting the resultant values\n",
    "print(\"filter of function returns\",str(my_filter(even,[2,3,4,5,6])))"
   ]
  },
  {
   "cell_type": "markdown",
   "metadata": {},
   "source": [
    "3) Implement List comprehensions to produce the following lists.\n",
    "Write List comprehensions to produce the following Lists\n",
    "['A', 'C', 'A', 'D', 'G', 'I', ’L’, ‘ D’]\n",
    "['x', 'xx', 'xxx', 'xxxx', 'y', 'yy', 'yyy', 'yyyy', 'z', 'zz', 'zzz', 'zzzz']\n",
    "['x', 'y', 'z', 'xx', 'yy', 'zz', 'xx', 'yy', 'zz', 'xxxx', 'yyyy', 'zzzz']\n",
    "[[2], [3], [4], [3], [4], [5], [4], [5], [6]]\n",
    "[[2, 3, 4, 5], [3, 4, 5, 6], [4, 5, 6, 7], [5, 6, 7, 8]]\n",
    "[(1, 1), (2, 1), (3, 1), (1, 2), (2, 2), (3, 2), (1, 3), (2, 3), (3, 3)]"
   ]
  },
  {
   "cell_type": "code",
   "execution_count": 36,
   "metadata": {},
   "outputs": [
    {
     "data": {
      "text/plain": [
       "['A', 'C', 'A', 'D', 'G', 'L', 'I', 'D']"
      ]
     },
     "execution_count": 36,
     "metadata": {},
     "output_type": "execute_result"
    }
   ],
   "source": [
    "#(1)given word\n",
    "w=\"acadglid\"\n",
    "#using list comprehension -looping over w and converting to upper case(as result is given in uppercase)\n",
    "lst=[x.upper() for x in w]\n",
    "lst"
   ]
  },
  {
   "cell_type": "code",
   "execution_count": 40,
   "metadata": {},
   "outputs": [
    {
     "name": "stdout",
     "output_type": "stream",
     "text": [
      "result is: ['x', 'xx', 'xxx', 'xxxx', 'y', 'yy', 'yyy', 'yyyy', 'z', 'zz', 'zzz', 'zzzz']\n"
     ]
    }
   ],
   "source": [
    "#(2)\n",
    "lst1=['x','y','z']\n",
    "l1=[i*j for i in lst1 for j in range(1,5) ]\n",
    "print(\"result is:\",str(l1))"
   ]
  },
  {
   "cell_type": "code",
   "execution_count": 41,
   "metadata": {},
   "outputs": [
    {
     "name": "stdout",
     "output_type": "stream",
     "text": [
      "result is: ['x', 'y', 'z', 'xx', 'yy', 'zz', 'xxx', 'yyy', 'zzz', 'xxxx', 'yyyy', 'zzzz']\n"
     ]
    }
   ],
   "source": [
    "#(3)\n",
    "lst2=['x','y','z']\n",
    "l2=[i*j for i in range(1,5) for j in lst2]\n",
    "print(\"result is:\",str(l2))"
   ]
  },
  {
   "cell_type": "code",
   "execution_count": 53,
   "metadata": {},
   "outputs": [
    {
     "name": "stdout",
     "output_type": "stream",
     "text": [
      "result is: [[2], [3], [4], [3], [4], [5], [4], [5], [6]]\n"
     ]
    }
   ],
   "source": [
    "#(4)\n",
    "lst3=[2,3,4]\n",
    "#for i in lst3:\n",
    "    #print(i)\n",
    " #   for j in range(0,3):\n",
    "  #      print(list(str(i+j)))\n",
    "l3=[[i+j] for i in lst3 for j in range(0,3)]\n",
    "print('result is:',l3)"
   ]
  },
  {
   "cell_type": "code",
   "execution_count": 69,
   "metadata": {},
   "outputs": [
    {
     "name": "stdout",
     "output_type": "stream",
     "text": [
      "result is [[2, 3, 4, 5], [3, 4, 5, 6], [4, 5, 6, 7], [5, 6, 7, 8]]\n"
     ]
    }
   ],
   "source": [
    "#(5)\n",
    "lst4=[2,3,4,5]\n",
    "#for i in range(0,4):\n",
    "    #print(list(str(i)))\n",
    " #   for j in lst4:\n",
    "  #      print(list(str(i+j)))\n",
    "l4=[ [i+j for j in lst4] for i in range(0,4)]\n",
    "print(\"result is\",l4)"
   ]
  },
  {
   "cell_type": "code",
   "execution_count": 85,
   "metadata": {},
   "outputs": [
    {
     "data": {
      "text/plain": [
       "[(1, 1), (2, 1), (3, 1), (1, 2), (2, 2), (3, 2), (1, 3), (2, 3), (3, 3)]"
      ]
     },
     "execution_count": 85,
     "metadata": {},
     "output_type": "execute_result"
    }
   ],
   "source": [
    "#(6)\n",
    "lst5=[1,2,3]\n",
    "\n",
    "#for j in lst5:\n",
    " #   for i in range(1,4):\n",
    "  #      c=i,j\n",
    "   #     print(tuple(c))\n",
    "l4=[ (j,i) for i in range(1,4) for j in lst5]\n",
    "l4"
   ]
  },
  {
   "cell_type": "markdown",
   "metadata": {},
   "source": [
    "3) Implement a function longestWord() that takes a list of words and returns the longest one."
   ]
  },
  {
   "cell_type": "code",
   "execution_count": 106,
   "metadata": {},
   "outputs": [
    {
     "name": "stdout",
     "output_type": "stream",
     "text": [
      "kojsudgfdiosfodsgn\n"
     ]
    }
   ],
   "source": [
    "#def longest(word):\n",
    "#    longestword=word[0]\n",
    " #   for i in word:\n",
    "  #      if len(longestword)<len(i):\n",
    "   #         longestword=i\n",
    "    #return longestword\n",
    "\n",
    "#w=['suyfujb','gfygoing','yfuyv','kojsudgfdiosfodsgn']\n",
    "#print(longest(w))\n",
    "def longestword(word):\n",
    "    m=sorted(word,key=len,reverse=True)\n",
    "    return m[0]\n",
    "\n",
    "l1=['suyfujb','gfygoing','yfuyv','kojsudgfdiosfodsgn']\n",
    "print(longestword(l1))"
   ]
  },
  {
   "cell_type": "markdown",
   "metadata": {},
   "source": [
    "TASK 2"
   ]
  },
  {
   "cell_type": "markdown",
   "metadata": {},
   "source": [
    "1.1)Write a Python Program(with class concepts) to find the area of the triangle using the below\n",
    "formula.\n",
    "area = (s*(s-a)*(s-b)*(s-c)) ** 0.5\n",
    "Function to take the length of the sides of triangle from user should be defined in the parent\n",
    "class and function to calculate the area should be defined in subclass.\n"
   ]
  },
  {
   "cell_type": "code",
   "execution_count": 26,
   "metadata": {},
   "outputs": [
    {
     "name": "stdout",
     "output_type": "stream",
     "text": [
      "Please enter the first side of a triangle: 6\n",
      "Please enter the second side of a triangle: 7\n",
      "Please enter the third side of a triangle: 8\n",
      "20.33316256758894\n"
     ]
    }
   ],
   "source": [
    "import sys\n",
    "import math\n",
    "#prompting user to enter three sides of triangle \n",
    "a = int(input('Please enter the first side of a triangle: '))\n",
    "b = int(input('Please enter the second side of a triangle: '))\n",
    "c = int(input('Please enter the third side of a triangle: '))\n",
    "#main class \n",
    "class triangle():\n",
    "    #passing sides a,b,c as arguements\n",
    "   def __init__(self,a,b,c):\n",
    "       self.a = a\n",
    "       self.b = b\n",
    "       self.c = c\n",
    "        #area function to calculate using formula\n",
    "   def area(self):\n",
    "       s=(a + b + c)/2\n",
    "       area =math.sqrt(s*(s-a)*(s-b)*(s-c))\n",
    "       return area\n",
    "    \n",
    "t = triangle(a, b, c)\n",
    "print(t.area())"
   ]
  },
  {
   "cell_type": "markdown",
   "metadata": {},
   "source": [
    "1.2) Write a function filter_long_words() that takes a list of words and an integer n and returns the list\n",
    "of words that are longer than n."
   ]
  },
  {
   "cell_type": "code",
   "execution_count": 136,
   "metadata": {},
   "outputs": [
    {
     "name": "stdout",
     "output_type": "stream",
     "text": [
      "['sdih', 'skdh']\n"
     ]
    }
   ],
   "source": [
    "def filter_long_words(word,num):\n",
    "    #using list comprehension,looping over the words in list and checking the condition if length of word is greater than the given number\n",
    "    return [i for i in word if len(i)>num]\n",
    "\n",
    "\n",
    "print(filter_long_words(['dbi','sdih','skdh'],3))"
   ]
  },
  {
   "cell_type": "markdown",
   "metadata": {},
   "source": [
    "2.1)Write a Python program using function concept that maps list of words into a list of integers\n",
    "representing the lengths of the corresponding words."
   ]
  },
  {
   "cell_type": "code",
   "execution_count": 5,
   "metadata": {},
   "outputs": [
    {
     "name": "stdout",
     "output_type": "stream",
     "text": [
      "[3, 4, 6]\n"
     ]
    }
   ],
   "source": [
    "#given words in list\n",
    "words=['the','open','closed']\n",
    "#map_list_words is defined as function\n",
    "def map_list_words(words):\n",
    "    #using lambda,we are calculating length of words and passing iterables also,which generates generator object\n",
    "    return (map(lambda x : len(x),words))\n",
    "#inorder to print the values,we are using list below\n",
    "print(list(map_list_words(words)))"
   ]
  },
  {
   "cell_type": "markdown",
   "metadata": {},
   "source": [
    "2.2)Write a Python function which takes a character (i.e. a string of length 1) and returns True if it is\n",
    "a vowel, False otherwise."
   ]
  },
  {
   "cell_type": "code",
   "execution_count": 22,
   "metadata": {},
   "outputs": [],
   "source": [
    "#funcyion definition with c as character\n",
    "def vowels(c):\n",
    "    #vowels list\n",
    "    v=['a','e','i','o','u']\n",
    "    #checking if given c is in vowels list,if it is then return true or else False\n",
    "    if c in v:\n",
    "        return True\n",
    "    else:\n",
    "        return False"
   ]
  },
  {
   "cell_type": "code",
   "execution_count": 23,
   "metadata": {},
   "outputs": [
    {
     "data": {
      "text/plain": [
       "False"
      ]
     },
     "execution_count": 23,
     "metadata": {},
     "output_type": "execute_result"
    }
   ],
   "source": [
    "vowels(23)"
   ]
  },
  {
   "cell_type": "code",
   "execution_count": 24,
   "metadata": {},
   "outputs": [
    {
     "data": {
      "text/plain": [
       "True"
      ]
     },
     "execution_count": 24,
     "metadata": {},
     "output_type": "execute_result"
    }
   ],
   "source": [
    "vowels('i')"
   ]
  },
  {
   "cell_type": "code",
   "execution_count": null,
   "metadata": {},
   "outputs": [],
   "source": []
  },
  {
   "cell_type": "code",
   "execution_count": null,
   "metadata": {},
   "outputs": [],
   "source": []
  }
 ],
 "metadata": {
  "kernelspec": {
   "display_name": "Python 3",
   "language": "python",
   "name": "python3"
  },
  "language_info": {
   "codemirror_mode": {
    "name": "ipython",
    "version": 3
   },
   "file_extension": ".py",
   "mimetype": "text/x-python",
   "name": "python",
   "nbconvert_exporter": "python",
   "pygments_lexer": "ipython3",
   "version": "3.7.4"
  }
 },
 "nbformat": 4,
 "nbformat_minor": 2
}
